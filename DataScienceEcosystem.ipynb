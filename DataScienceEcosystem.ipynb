{
 "cells": [
  {
   "cell_type": "markdown",
   "id": "ec5b5c7d-1b2e-4969-bf56-ec1130e98767",
   "metadata": {},
   "source": [
    "# Data Science Tools and Ecosystem"
   ]
  },
  {
   "cell_type": "markdown",
   "id": "acb40cb3-8af1-4490-93ed-feb8bc25c3dc",
   "metadata": {},
   "source": [
    "In this notebook, Data Science Tools and Ecosystem are summarized."
   ]
  },
  {
   "cell_type": "markdown",
   "id": "62b29885-7074-4416-99ea-8162b7bb186f",
   "metadata": {},
   "source": [
    "**Objectives:**\n",
    "* List popular languages for Data Science\n",
    "* List some common libraries used by Data Scientists\n",
    "* List some open source development tools for Data Science\n",
    "* evaluate arithmetic expressions in Python"
   ]
  },
  {
   "cell_type": "markdown",
   "id": "da1ca356-fc22-4dc7-b4a6-66c04d8ff64b",
   "metadata": {},
   "source": [
    "**Some of the popular languages that Data Scientists use are:**\n",
    "1. python\n",
    "2. R\n",
    "3. SQL\n",
    "4. Java\n",
    "5. Julia\n",
    "6. Scala\n",
    "7. C++"
   ]
  },
  {
   "cell_type": "markdown",
   "id": "e6b21a35-dfd7-431f-b17f-87a9051f681e",
   "metadata": {},
   "source": [
    "**Some of the commonly used libraries used by Data Scientists include:**\n",
    "1. Pandas\n",
    "2. Numpy\n",
    "3. Matplotlib\n",
    "4. Keras\n",
    "5. Tensorflow\n",
    "6. Seaborn\n",
    "7. Scikit-learn\n"
   ]
  },
  {
   "cell_type": "markdown",
   "id": "559c9310-e6cd-49fc-9fd3-efdc1c86a61f",
   "metadata": {},
   "source": [
    "| Data Science Tools      |\n",
    "| ------------------------|\n",
    "| Jupyter IDE             |\n",
    "| RStudio                 |\n",
    "| Microsoft Visual Studio |\n"
   ]
  },
  {
   "cell_type": "markdown",
   "id": "4f952d3e-f705-4ab8-8057-86e4ae0104cb",
   "metadata": {},
   "source": [
    "### Below are a few examples of evaluating arithmetic expressions in Python\n"
   ]
  },
  {
   "cell_type": "code",
   "execution_count": 1,
   "id": "5d10e631-0cbd-4667-a7d1-d3a8c9eb5cdc",
   "metadata": {},
   "outputs": [
    {
     "data": {
      "text/plain": [
       "17"
      ]
     },
     "execution_count": 1,
     "metadata": {},
     "output_type": "execute_result"
    }
   ],
   "source": [
    "# This a simple arithmetic expression to mutiply then add integers.\n",
    "(3*4)+5"
   ]
  },
  {
   "cell_type": "code",
   "execution_count": 3,
   "id": "ff87527b-76c0-4358-a36f-bb9cf96f6e77",
   "metadata": {},
   "outputs": [
    {
     "data": {
      "text/plain": [
       "3.3333333333333335"
      ]
     },
     "execution_count": 3,
     "metadata": {},
     "output_type": "execute_result"
    }
   ],
   "source": [
    "# This will convert 200 minutes to hours by diving by 60.\n",
    "200/60"
   ]
  },
  {
   "cell_type": "markdown",
   "id": "8f911113-9a16-4bb9-9795-95146648925e",
   "metadata": {},
   "source": [
    "## Author \n",
    "Abdou Salam Sisawo"
   ]
  },
  {
   "cell_type": "code",
   "execution_count": null,
   "id": "9dfc42a1-1f81-4b36-ae6f-53b5fc72de2e",
   "metadata": {},
   "outputs": [],
   "source": []
  }
 ],
 "metadata": {
  "kernelspec": {
   "display_name": "Python 3 (ipykernel)",
   "language": "python",
   "name": "python3"
  },
  "language_info": {
   "codemirror_mode": {
    "name": "ipython",
    "version": 3
   },
   "file_extension": ".py",
   "mimetype": "text/x-python",
   "name": "python",
   "nbconvert_exporter": "python",
   "pygments_lexer": "ipython3",
   "version": "3.12.9"
  }
 },
 "nbformat": 4,
 "nbformat_minor": 5
}
